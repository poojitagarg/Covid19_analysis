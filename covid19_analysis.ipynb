{
  "nbformat": 4,
  "nbformat_minor": 0,
  "metadata": {
    "colab": {
      "name": "covid19_analysis.ipynb",
      "provenance": [],
      "authorship_tag": "ABX9TyODj+wffhn+Y5k5YOsne2C4",
      "include_colab_link": true
    },
    "kernelspec": {
      "name": "python3",
      "display_name": "Python 3"
    }
  },
  "cells": [
    {
      "cell_type": "markdown",
      "metadata": {
        "id": "view-in-github",
        "colab_type": "text"
      },
      "source": [
        "<a href=\"https://colab.research.google.com/github/poojitagarg/Covid19_analysis/blob/master/covid19_analysis.ipynb\" target=\"_parent\"><img src=\"https://colab.research.google.com/assets/colab-badge.svg\" alt=\"Open In Colab\"/></a>"
      ]
    },
    {
      "cell_type": "code",
      "metadata": {
        "id": "M7i31iFQ1RgG",
        "colab_type": "code",
        "colab": {}
      },
      "source": [
        "import numpy as np\n",
        "import pandas as pd\n",
        "import matplotlib.pyplot as plt\n",
        "import datetime"
      ],
      "execution_count": 0,
      "outputs": []
    },
    {
      "cell_type": "code",
      "metadata": {
        "id": "ygWXcgWj1ema",
        "colab_type": "code",
        "colab": {}
      },
      "source": [
        "#reading the data and creating a new column\n",
        "covid_data=pd.read_csv('Covid19.csv').values\n",
        "print(covid_data)\n",
        "covid_data=np.c_[covid_data,np.zeros((len(covid_data),1))]"
      ],
      "execution_count": 0,
      "outputs": []
    },
    {
      "cell_type": "code",
      "metadata": {
        "id": "ttchT4h04yKq",
        "colab_type": "code",
        "outputId": "e04e49d0-2662-4318-cd17-6d43d06e7fb9",
        "colab": {
          "base_uri": "https://localhost:8080/",
          "height": 34
        }
      },
      "source": [
        "#creating a csv file for new cases per state per date\n",
        "covid_data[0,-1]=covid_data[0,-2]\n",
        "for i in range(1,len(covid_data)):   \n",
        "  for j in range(i-1,-1,-1):\n",
        "    if covid_data[i,1]==covid_data[j,1]:\n",
        "      covid_data[i,-1]=covid_data[i,-2]-covid_data[j,-2]\n",
        "      break\n",
        "    covid_data[i,-1]=covid_data[i,-2]\n",
        "print(covid_data[:,-1])\n",
        "pd.DataFrame(covid_data).to_csv(\"file999.csv\")"
      ],
      "execution_count": 0,
      "outputs": [
        {
          "output_type": "stream",
          "text": [
            "[1 0 1 ... 247 2 78]\n"
          ],
          "name": "stdout"
        }
      ]
    },
    {
      "cell_type": "code",
      "metadata": {
        "id": "Al4FWA4y8lAh",
        "colab_type": "code",
        "outputId": "5c0627f7-87c6-4d71-fd21-7ada3c48863b",
        "colab": {
          "base_uri": "https://localhost:8080/",
          "height": 340
        }
      },
      "source": [
        "# creating a dictionary to store new cases per date\n",
        "date_to_new_cases={}\n",
        "for i in range(0,len(covid_data)):\n",
        "  if covid_data[i,0] not in date_to_new_cases:\n",
        "    date_to_new_cases[covid_data[i,0]]=covid_data[i,-1]\n",
        "    for j in range(i+1,len(covid_data)):\n",
        "      if covid_data[j,0]==covid_data[i,0]:\n",
        "        \n",
        "        date_to_new_cases[covid_data[i,0]]+=covid_data[j,-1]\n",
        "  else:\n",
        "    pass\n",
        "#dictionary to array\n",
        "dd = list(date_to_new_cases.items())\n",
        "Ar= np.array(dd)\n",
        "Ar=pd.DataFrame({\"d\":Ar[:,0], \n",
        "                 \"N\":Ar[:,1]}) \n",
        "print(Ar)\n",
        "#creating a vector N for the new cases and D for the dates\n",
        "N=np.zeros(len(Ar))\n",
        "D=np.zeros(len(Ar))\n",
        "N=Ar.N.values\n",
        "D=Ar.d.values\n",
        "for i in range(0, len(N)): \n",
        "  N[i] = int(float(N[i])) \n",
        "print(N)"
      ],
      "execution_count": 0,
      "outputs": [
        {
          "output_type": "stream",
          "text": [
            "             d     N\n",
            "0   2020-01-30     1\n",
            "1   2020-01-31     0\n",
            "2   2020-02-01     1\n",
            "3   2020-02-02     1\n",
            "4   2020-02-03     0\n",
            "..         ...   ...\n",
            "84  2020-04-23  1409\n",
            "85  2020-04-24  1684\n",
            "86  2020-04-25  1429\n",
            "87  2020-04-26  1778\n",
            "88  2020-04-27  1608\n",
            "\n",
            "[89 rows x 2 columns]\n",
            "[1 0 1 1 0 0 0 0 0 0 0 0 0 0 0 0 0 0 0 0 0 0 0 0 0 0 0 0 0 0 0 0 2 0 21 2\n",
            " 1 3 5 7 12 12 6 1 9 27 3 23 14 22 22 103 77 73 86 87 88 30 185 71 91 288\n",
            " 464 131 329 625 466 693 354 773 540 678 1035 909 796 1652 635 941 1455\n",
            " 543 1334 1553 1336 1383 1409 1684 1429 1778 1608]\n",
            "89\n"
          ],
          "name": "stdout"
        }
      ]
    },
    {
      "cell_type": "code",
      "metadata": {
        "id": "GcpFRgzJQeM7",
        "colab_type": "code",
        "colab": {}
      },
      "source": [
        "#function to calculate moving average\n",
        "S=np.zeros(len(Ar))\n",
        "def moving_avg(Beta):\n",
        "  S[0]=0\n",
        "#For each date calculate moving average in this way\n",
        "  for i in range(1,len(Ar)):\n",
        "    S[i]= Beta*S[i-1] + (1-Beta)*N[i]\n",
        "  return S\n"
      ],
      "execution_count": 0,
      "outputs": []
    },
    {
      "cell_type": "code",
      "metadata": {
        "id": "J_V1VdkgT6x9",
        "colab_type": "code",
        "outputId": "d58941de-0691-4c73-89f4-9e2a7bd4f84f",
        "colab": {
          "base_uri": "https://localhost:8080/",
          "height": 295
        }
      },
      "source": [
        "#graph to plot the moving averages through a line graph\n",
        "Y=D\n",
        "P=moving_avg(0.9)\n",
        "plt.plot(Y, P, label = \"line 1\")\n",
        "Q=moving_avg(0.8)\n",
        "plt.plot(Y, Q, label = \"line 2\")\n",
        "R=moving_avg(0.7)\n",
        "plt.plot(Y, R, label = \"line 3\")\n",
        "T=moving_avg(0.6)\n",
        "plt.plot(Y, T, label = \"line 4\")\n",
        "U=moving_avg(0.5)\n",
        "plt.plot(Y, U, label = \"line 5\")\n",
        "plt.xlabel('Date')\n",
        "plt.ylabel('Moving Averages')\n",
        "plt.title('Moving Average V/s Date ')\n",
        "plt.legend()\n",
        "plt.show()"
      ],
      "execution_count": 0,
      "outputs": [
        {
          "output_type": "display_data",
          "data": {
            "image/png": "[encoded data removed]",
            "text/plain": [
              "<Figure size 432x288 with 1 Axes>"
            ]
          },
          "metadata": {
            "tags": [],
            "needs_background": "light"
          }
        }
      ]
    },
    {
      "cell_type": "code",
      "metadata": {
        "id": "GmuDt9EAUNKw",
        "colab_type": "code",
        "colab": {}
      },
      "source": [
        ""
      ],
      "execution_count": 0,
      "outputs": []
    }
  ]
}